{
  "nbformat": 4,
  "nbformat_minor": 0,
  "metadata": {
    "colab": {
      "name": "cotaparlamentar.ipynb",
      "provenance": [],
      "collapsed_sections": []
    },
    "kernelspec": {
      "display_name": "Python 3",
      "name": "python3"
    },
    "language_info": {
      "name": "python"
    }
  },
  "cells": [
    {
      "cell_type": "markdown",
      "metadata": {
        "id": "KTQFEtPgDmlC"
      },
      "source": [
        "## Contexto\n",
        "\n",
        "Este notebook foi criado como parte do projeto final do Módulo 4 do curso Vamo AI. Nele, faremos a análise exploratória de dados disponibilizados pela Câmara dos Deputados do Brasil. Estes dados compreendem o uso da CEAP (Cota de Exercício da Atividade Parlamentar) no período de 2009 a 2019 pelos Deputados Federais.\n",
        "A descrição de cada uma das colunas pode ser encontrada [no site da Câmara dos Deputados](https://www2.camara.leg.br/transparencia/cota-para-exercicio-da-atividade-parlamentar/explicacoes-sobre-o-formato-dos-arquivos-xml)."
      ]
    },
    {
      "cell_type": "code",
      "metadata": {
        "id": "5moKUym66WHP"
      },
      "source": [
        "import pandas as pd\n",
        "import matplotlib as plt"
      ],
      "execution_count": 38,
      "outputs": []
    },
    {
      "cell_type": "code",
      "metadata": {
        "colab": {
          "base_uri": "https://localhost:8080/"
        },
        "id": "BvppSBXDPnja",
        "outputId": "26d7e9bf-eca0-475b-cf82-ab88cbda93c9"
      },
      "source": [
        "from google.colab import drive\n",
        "drive.mount('/content/drive')"
      ],
      "execution_count": 39,
      "outputs": [
        {
          "output_type": "stream",
          "text": [
            "Drive already mounted at /content/drive; to attempt to forcibly remount, call drive.mount(\"/content/drive\", force_remount=True).\n"
          ],
          "name": "stdout"
        }
      ]
    },
    {
      "cell_type": "code",
      "metadata": {
        "id": "FulR-Y_hPrFn"
      },
      "source": [
        "df=pd.read_csv('/content/drive/MyDrive/dados_colab/cota-parlamentar.csv', sep=',') #depois de analisar, podemos importar só as colunas usadas."
      ],
      "execution_count": 40,
      "outputs": []
    },
    {
      "cell_type": "code",
      "metadata": {
        "colab": {
          "base_uri": "https://localhost:8080/",
          "height": 392
        },
        "id": "sG8ujJf6tdXt",
        "outputId": "f7c5e3c6-9180-4a91-d862-05046b2e70c8"
      },
      "source": [
        "df.sort_values(by='vlrliquido',ascending=False).head(4) #maiores reembolsos."
      ],
      "execution_count": 41,
      "outputs": [
        {
          "output_type": "execute_result",
          "data": {
            "text/html": [
              "<div>\n",
              "<style scoped>\n",
              "    .dataframe tbody tr th:only-of-type {\n",
              "        vertical-align: middle;\n",
              "    }\n",
              "\n",
              "    .dataframe tbody tr th {\n",
              "        vertical-align: top;\n",
              "    }\n",
              "\n",
              "    .dataframe thead th {\n",
              "        text-align: right;\n",
              "    }\n",
              "</style>\n",
              "<table border=\"1\" class=\"dataframe\">\n",
              "  <thead>\n",
              "    <tr style=\"text-align: right;\">\n",
              "      <th></th>\n",
              "      <th>codlegislatura</th>\n",
              "      <th>datemissao</th>\n",
              "      <th>idedocumento</th>\n",
              "      <th>idecadastro</th>\n",
              "      <th>indtipodocumento</th>\n",
              "      <th>nucarteiraparlamentar</th>\n",
              "      <th>nudeputadoid</th>\n",
              "      <th>nulegislatura</th>\n",
              "      <th>numano</th>\n",
              "      <th>numespecificacaosubcota</th>\n",
              "      <th>numlote</th>\n",
              "      <th>nummes</th>\n",
              "      <th>numparcela</th>\n",
              "      <th>numressarcimento</th>\n",
              "      <th>numsubcota</th>\n",
              "      <th>sgpartido</th>\n",
              "      <th>sguf</th>\n",
              "      <th>txnomeparlamentar</th>\n",
              "      <th>txtcnpjcpf</th>\n",
              "      <th>txtdescricao</th>\n",
              "      <th>txtdescricaoespecificacao</th>\n",
              "      <th>txtfornecedor</th>\n",
              "      <th>txtnumero</th>\n",
              "      <th>txtpassageiro</th>\n",
              "      <th>txttrecho</th>\n",
              "      <th>vlrdocumento</th>\n",
              "      <th>vlrglosa</th>\n",
              "      <th>vlrliquido</th>\n",
              "      <th>vlrrestituicao</th>\n",
              "    </tr>\n",
              "  </thead>\n",
              "  <tbody>\n",
              "    <tr>\n",
              "      <th>60833</th>\n",
              "      <td>54</td>\n",
              "      <td>2012-12-14 00:00:00</td>\n",
              "      <td>2450977</td>\n",
              "      <td>73434.0</td>\n",
              "      <td>0</td>\n",
              "      <td>337.0</td>\n",
              "      <td>292</td>\n",
              "      <td>2011</td>\n",
              "      <td>2012</td>\n",
              "      <td>0</td>\n",
              "      <td>655008</td>\n",
              "      <td>12</td>\n",
              "      <td>0</td>\n",
              "      <td>NaN</td>\n",
              "      <td>5</td>\n",
              "      <td>PTB</td>\n",
              "      <td>SP</td>\n",
              "      <td>ARNALDO FARIA DE SÁ</td>\n",
              "      <td>5511195000158</td>\n",
              "      <td>DIVULGAÇÃO DA ATIVIDADE PARLAMENTAR.</td>\n",
              "      <td>NaN</td>\n",
              "      <td>BALCOLOR DIGITAL ATELIER GRAFICO LTDA</td>\n",
              "      <td>00000616</td>\n",
              "      <td>NaN</td>\n",
              "      <td>NaN</td>\n",
              "      <td>215000.0</td>\n",
              "      <td>0.0</td>\n",
              "      <td>215000.0</td>\n",
              "      <td>NaN</td>\n",
              "    </tr>\n",
              "    <tr>\n",
              "      <th>87402</th>\n",
              "      <td>54</td>\n",
              "      <td>2014-12-19 00:00:00</td>\n",
              "      <td>5578026</td>\n",
              "      <td>73434.0</td>\n",
              "      <td>0</td>\n",
              "      <td>337.0</td>\n",
              "      <td>292</td>\n",
              "      <td>2011</td>\n",
              "      <td>2014</td>\n",
              "      <td>0</td>\n",
              "      <td>1159723</td>\n",
              "      <td>12</td>\n",
              "      <td>0</td>\n",
              "      <td>NaN</td>\n",
              "      <td>5</td>\n",
              "      <td>PTB</td>\n",
              "      <td>SP</td>\n",
              "      <td>ARNALDO FARIA DE SÁ</td>\n",
              "      <td>54450705000130</td>\n",
              "      <td>DIVULGAÇÃO DA ATIVIDADE PARLAMENTAR.</td>\n",
              "      <td>NaN</td>\n",
              "      <td>GRÁFICA TRÊS PONTAS</td>\n",
              "      <td>00011536</td>\n",
              "      <td>NaN</td>\n",
              "      <td>NaN</td>\n",
              "      <td>208320.0</td>\n",
              "      <td>0.0</td>\n",
              "      <td>208320.0</td>\n",
              "      <td>NaN</td>\n",
              "    </tr>\n",
              "    <tr>\n",
              "      <th>70032</th>\n",
              "      <td>54</td>\n",
              "      <td>2013-12-27 00:00:00</td>\n",
              "      <td>5308289</td>\n",
              "      <td>73434.0</td>\n",
              "      <td>0</td>\n",
              "      <td>337.0</td>\n",
              "      <td>292</td>\n",
              "      <td>2011</td>\n",
              "      <td>2013</td>\n",
              "      <td>0</td>\n",
              "      <td>1083055</td>\n",
              "      <td>12</td>\n",
              "      <td>0</td>\n",
              "      <td>NaN</td>\n",
              "      <td>5</td>\n",
              "      <td>PTB</td>\n",
              "      <td>SP</td>\n",
              "      <td>ARNALDO FARIA DE SÁ</td>\n",
              "      <td>5511195000158</td>\n",
              "      <td>DIVULGAÇÃO DA ATIVIDADE PARLAMENTAR.</td>\n",
              "      <td>NaN</td>\n",
              "      <td>BALCOLOR DIGITAL ATELIER GRAFICO LTDA</td>\n",
              "      <td>00000769</td>\n",
              "      <td>NaN</td>\n",
              "      <td>NaN</td>\n",
              "      <td>197370.0</td>\n",
              "      <td>0.0</td>\n",
              "      <td>197370.0</td>\n",
              "      <td>NaN</td>\n",
              "    </tr>\n",
              "    <tr>\n",
              "      <th>113778</th>\n",
              "      <td>54</td>\n",
              "      <td>2011-12-19 00:00:00</td>\n",
              "      <td>2228012</td>\n",
              "      <td>73434.0</td>\n",
              "      <td>0</td>\n",
              "      <td>337.0</td>\n",
              "      <td>292</td>\n",
              "      <td>2011</td>\n",
              "      <td>2011</td>\n",
              "      <td>0</td>\n",
              "      <td>584828</td>\n",
              "      <td>12</td>\n",
              "      <td>0</td>\n",
              "      <td>NaN</td>\n",
              "      <td>5</td>\n",
              "      <td>PTB</td>\n",
              "      <td>SP</td>\n",
              "      <td>ARNALDO FARIA DE SÁ</td>\n",
              "      <td>5511195000158</td>\n",
              "      <td>DIVULGAÇÃO DA ATIVIDADE PARLAMENTAR.</td>\n",
              "      <td>NaN</td>\n",
              "      <td>BALCOLOR</td>\n",
              "      <td>00000068</td>\n",
              "      <td>NaN</td>\n",
              "      <td>NaN</td>\n",
              "      <td>197000.0</td>\n",
              "      <td>0.0</td>\n",
              "      <td>197000.0</td>\n",
              "      <td>NaN</td>\n",
              "    </tr>\n",
              "  </tbody>\n",
              "</table>\n",
              "</div>"
            ],
            "text/plain": [
              "        codlegislatura           datemissao  ...  vlrliquido  vlrrestituicao\n",
              "60833               54  2012-12-14 00:00:00  ...    215000.0             NaN\n",
              "87402               54  2014-12-19 00:00:00  ...    208320.0             NaN\n",
              "70032               54  2013-12-27 00:00:00  ...    197370.0             NaN\n",
              "113778              54  2011-12-19 00:00:00  ...    197000.0             NaN\n",
              "\n",
              "[4 rows x 29 columns]"
            ]
          },
          "metadata": {
            "tags": []
          },
          "execution_count": 41
        }
      ]
    },
    {
      "cell_type": "code",
      "metadata": {
        "colab": {
          "base_uri": "https://localhost:8080/"
        },
        "id": "5ipfA1WH839m",
        "outputId": "f58226f0-cdfb-4c52-a8af-3c3cdd4a9cb4"
      },
      "source": [
        "df.columns #nome de cada coluna"
      ],
      "execution_count": 42,
      "outputs": [
        {
          "output_type": "execute_result",
          "data": {
            "text/plain": [
              "Index(['codlegislatura', 'datemissao', 'idedocumento', 'idecadastro',\n",
              "       'indtipodocumento', 'nucarteiraparlamentar', 'nudeputadoid',\n",
              "       'nulegislatura', 'numano', 'numespecificacaosubcota', 'numlote',\n",
              "       'nummes', 'numparcela', 'numressarcimento', 'numsubcota', 'sgpartido',\n",
              "       'sguf', 'txnomeparlamentar', 'txtcnpjcpf', 'txtdescricao',\n",
              "       'txtdescricaoespecificacao', 'txtfornecedor', 'txtnumero',\n",
              "       'txtpassageiro', 'txttrecho', 'vlrdocumento', 'vlrglosa', 'vlrliquido',\n",
              "       'vlrrestituicao'],\n",
              "      dtype='object')"
            ]
          },
          "metadata": {
            "tags": []
          },
          "execution_count": 42
        }
      ]
    },
    {
      "cell_type": "code",
      "metadata": {
        "id": "vnzPpDFwF3XZ"
      },
      "source": [
        "cols = ['txnomeparlamentar', 'sguf', 'sgpartido','txtdescricao', 'vlrliquido', 'nummes', 'numano', 'txtfornecedor'] #usar essas colunas na análise"
      ],
      "execution_count": 43,
      "outputs": []
    },
    {
      "cell_type": "code",
      "metadata": {
        "id": "G06gcLk2H0bm"
      },
      "source": [
        "df=pd.read_csv('drive/MyDrive/dados_colab/cota-parlamentar.csv', usecols=cols,sep=',') #df que será usado."
      ],
      "execution_count": 44,
      "outputs": []
    },
    {
      "cell_type": "code",
      "metadata": {
        "colab": {
          "base_uri": "https://localhost:8080/",
          "height": 336
        },
        "id": "PRPN3WfctWfF",
        "outputId": "9cc777a1-63cb-462e-9082-06862c15592e"
      },
      "source": [
        "df.head()"
      ],
      "execution_count": 45,
      "outputs": [
        {
          "output_type": "execute_result",
          "data": {
            "text/html": [
              "<div>\n",
              "<style scoped>\n",
              "    .dataframe tbody tr th:only-of-type {\n",
              "        vertical-align: middle;\n",
              "    }\n",
              "\n",
              "    .dataframe tbody tr th {\n",
              "        vertical-align: top;\n",
              "    }\n",
              "\n",
              "    .dataframe thead th {\n",
              "        text-align: right;\n",
              "    }\n",
              "</style>\n",
              "<table border=\"1\" class=\"dataframe\">\n",
              "  <thead>\n",
              "    <tr style=\"text-align: right;\">\n",
              "      <th></th>\n",
              "      <th>numano</th>\n",
              "      <th>nummes</th>\n",
              "      <th>sgpartido</th>\n",
              "      <th>sguf</th>\n",
              "      <th>txnomeparlamentar</th>\n",
              "      <th>txtdescricao</th>\n",
              "      <th>txtfornecedor</th>\n",
              "      <th>vlrliquido</th>\n",
              "    </tr>\n",
              "  </thead>\n",
              "  <tbody>\n",
              "    <tr>\n",
              "      <th>0</th>\n",
              "      <td>2020</td>\n",
              "      <td>2</td>\n",
              "      <td>PSDB</td>\n",
              "      <td>NaN</td>\n",
              "      <td>LIDERANÇA DO PSDB</td>\n",
              "      <td>DIVULGAÇÃO DA ATIVIDADE PARLAMENTAR.</td>\n",
              "      <td>CONTENT ASSESSORIA LTDA - ME</td>\n",
              "      <td>998.0</td>\n",
              "    </tr>\n",
              "    <tr>\n",
              "      <th>1</th>\n",
              "      <td>2020</td>\n",
              "      <td>1</td>\n",
              "      <td>PSDB</td>\n",
              "      <td>NaN</td>\n",
              "      <td>LIDERANÇA DO PSDB</td>\n",
              "      <td>DIVULGAÇÃO DA ATIVIDADE PARLAMENTAR.</td>\n",
              "      <td>METROPOLE INTERATIVA INFORMATICA LTDA</td>\n",
              "      <td>4920.0</td>\n",
              "    </tr>\n",
              "    <tr>\n",
              "      <th>2</th>\n",
              "      <td>2020</td>\n",
              "      <td>2</td>\n",
              "      <td>PSDB</td>\n",
              "      <td>NaN</td>\n",
              "      <td>LIDERANÇA DO PSDB</td>\n",
              "      <td>FORNECIMENTO DE ALIMENTAÇÃO DO PARLAMENTAR</td>\n",
              "      <td>AFC ALIMENTOS LTDA</td>\n",
              "      <td>511.0</td>\n",
              "    </tr>\n",
              "    <tr>\n",
              "      <th>3</th>\n",
              "      <td>2020</td>\n",
              "      <td>2</td>\n",
              "      <td>PSDB</td>\n",
              "      <td>NaN</td>\n",
              "      <td>LIDERANÇA DO PSDB</td>\n",
              "      <td>FORNECIMENTO DE ALIMENTAÇÃO DO PARLAMENTAR</td>\n",
              "      <td>AFC ALIMENTOS LTDA</td>\n",
              "      <td>186.0</td>\n",
              "    </tr>\n",
              "    <tr>\n",
              "      <th>4</th>\n",
              "      <td>2020</td>\n",
              "      <td>2</td>\n",
              "      <td>PSDB</td>\n",
              "      <td>NaN</td>\n",
              "      <td>LIDERANÇA DO PSDB</td>\n",
              "      <td>FORNECIMENTO DE ALIMENTAÇÃO DO PARLAMENTAR</td>\n",
              "      <td>ARTESANAL SERVICOS DE ALIMENTACAO E BUFFET EIRELI</td>\n",
              "      <td>740.0</td>\n",
              "    </tr>\n",
              "  </tbody>\n",
              "</table>\n",
              "</div>"
            ],
            "text/plain": [
              "   numano  ...  vlrliquido\n",
              "0    2020  ...       998.0\n",
              "1    2020  ...      4920.0\n",
              "2    2020  ...       511.0\n",
              "3    2020  ...       186.0\n",
              "4    2020  ...       740.0\n",
              "\n",
              "[5 rows x 8 columns]"
            ]
          },
          "metadata": {
            "tags": []
          },
          "execution_count": 45
        }
      ]
    },
    {
      "cell_type": "code",
      "metadata": {
        "colab": {
          "base_uri": "https://localhost:8080/"
        },
        "id": "LiE9z-_RBkEm",
        "outputId": "4e17bd54-c931-4b44-bd76-53d93d672c47"
      },
      "source": [
        "df.info()"
      ],
      "execution_count": 46,
      "outputs": [
        {
          "output_type": "stream",
          "text": [
            "<class 'pandas.core.frame.DataFrame'>\n",
            "RangeIndex: 3855649 entries, 0 to 3855648\n",
            "Data columns (total 8 columns):\n",
            " #   Column             Dtype  \n",
            "---  ------             -----  \n",
            " 0   numano             int64  \n",
            " 1   nummes             int64  \n",
            " 2   sgpartido          object \n",
            " 3   sguf               object \n",
            " 4   txnomeparlamentar  object \n",
            " 5   txtdescricao       object \n",
            " 6   txtfornecedor      object \n",
            " 7   vlrliquido         float64\n",
            "dtypes: float64(1), int64(2), object(5)\n",
            "memory usage: 235.3+ MB\n"
          ],
          "name": "stdout"
        }
      ]
    },
    {
      "cell_type": "code",
      "metadata": {
        "colab": {
          "base_uri": "https://localhost:8080/",
          "height": 336
        },
        "id": "XzFTd7gfPgIw",
        "outputId": "11472ce6-dcf3-49d0-a893-febdb154d9ba"
      },
      "source": [
        "df.head()"
      ],
      "execution_count": 47,
      "outputs": [
        {
          "output_type": "execute_result",
          "data": {
            "text/html": [
              "<div>\n",
              "<style scoped>\n",
              "    .dataframe tbody tr th:only-of-type {\n",
              "        vertical-align: middle;\n",
              "    }\n",
              "\n",
              "    .dataframe tbody tr th {\n",
              "        vertical-align: top;\n",
              "    }\n",
              "\n",
              "    .dataframe thead th {\n",
              "        text-align: right;\n",
              "    }\n",
              "</style>\n",
              "<table border=\"1\" class=\"dataframe\">\n",
              "  <thead>\n",
              "    <tr style=\"text-align: right;\">\n",
              "      <th></th>\n",
              "      <th>numano</th>\n",
              "      <th>nummes</th>\n",
              "      <th>sgpartido</th>\n",
              "      <th>sguf</th>\n",
              "      <th>txnomeparlamentar</th>\n",
              "      <th>txtdescricao</th>\n",
              "      <th>txtfornecedor</th>\n",
              "      <th>vlrliquido</th>\n",
              "    </tr>\n",
              "  </thead>\n",
              "  <tbody>\n",
              "    <tr>\n",
              "      <th>0</th>\n",
              "      <td>2020</td>\n",
              "      <td>2</td>\n",
              "      <td>PSDB</td>\n",
              "      <td>NaN</td>\n",
              "      <td>LIDERANÇA DO PSDB</td>\n",
              "      <td>DIVULGAÇÃO DA ATIVIDADE PARLAMENTAR.</td>\n",
              "      <td>CONTENT ASSESSORIA LTDA - ME</td>\n",
              "      <td>998.0</td>\n",
              "    </tr>\n",
              "    <tr>\n",
              "      <th>1</th>\n",
              "      <td>2020</td>\n",
              "      <td>1</td>\n",
              "      <td>PSDB</td>\n",
              "      <td>NaN</td>\n",
              "      <td>LIDERANÇA DO PSDB</td>\n",
              "      <td>DIVULGAÇÃO DA ATIVIDADE PARLAMENTAR.</td>\n",
              "      <td>METROPOLE INTERATIVA INFORMATICA LTDA</td>\n",
              "      <td>4920.0</td>\n",
              "    </tr>\n",
              "    <tr>\n",
              "      <th>2</th>\n",
              "      <td>2020</td>\n",
              "      <td>2</td>\n",
              "      <td>PSDB</td>\n",
              "      <td>NaN</td>\n",
              "      <td>LIDERANÇA DO PSDB</td>\n",
              "      <td>FORNECIMENTO DE ALIMENTAÇÃO DO PARLAMENTAR</td>\n",
              "      <td>AFC ALIMENTOS LTDA</td>\n",
              "      <td>511.0</td>\n",
              "    </tr>\n",
              "    <tr>\n",
              "      <th>3</th>\n",
              "      <td>2020</td>\n",
              "      <td>2</td>\n",
              "      <td>PSDB</td>\n",
              "      <td>NaN</td>\n",
              "      <td>LIDERANÇA DO PSDB</td>\n",
              "      <td>FORNECIMENTO DE ALIMENTAÇÃO DO PARLAMENTAR</td>\n",
              "      <td>AFC ALIMENTOS LTDA</td>\n",
              "      <td>186.0</td>\n",
              "    </tr>\n",
              "    <tr>\n",
              "      <th>4</th>\n",
              "      <td>2020</td>\n",
              "      <td>2</td>\n",
              "      <td>PSDB</td>\n",
              "      <td>NaN</td>\n",
              "      <td>LIDERANÇA DO PSDB</td>\n",
              "      <td>FORNECIMENTO DE ALIMENTAÇÃO DO PARLAMENTAR</td>\n",
              "      <td>ARTESANAL SERVICOS DE ALIMENTACAO E BUFFET EIRELI</td>\n",
              "      <td>740.0</td>\n",
              "    </tr>\n",
              "  </tbody>\n",
              "</table>\n",
              "</div>"
            ],
            "text/plain": [
              "   numano  ...  vlrliquido\n",
              "0    2020  ...       998.0\n",
              "1    2020  ...      4920.0\n",
              "2    2020  ...       511.0\n",
              "3    2020  ...       186.0\n",
              "4    2020  ...       740.0\n",
              "\n",
              "[5 rows x 8 columns]"
            ]
          },
          "metadata": {
            "tags": []
          },
          "execution_count": 47
        }
      ]
    },
    {
      "cell_type": "code",
      "metadata": {
        "id": "eOpna27mJNbU"
      },
      "source": [
        "df.rename(columns={'sguf': 'UF', 'sgpartido': 'partido', 'txnomeparlamentar': 'nome_parlamentar', 'txtdescricao': 'desc_gasto', 'vlrliquido': 'valor_gasto', 'nummes': 'mes', 'numano': 'ano'}, inplace=True) "
      ],
      "execution_count": 48,
      "outputs": []
    },
    {
      "cell_type": "code",
      "metadata": {
        "colab": {
          "base_uri": "https://localhost:8080/",
          "height": 286
        },
        "id": "HAKwKpLOJ9id",
        "outputId": "da000378-133c-42e3-9de4-f0af260ff2c0"
      },
      "source": [
        "df.head() #conferindo as alteraçoes de nomes de coluna"
      ],
      "execution_count": 49,
      "outputs": [
        {
          "output_type": "execute_result",
          "data": {
            "text/html": [
              "<div>\n",
              "<style scoped>\n",
              "    .dataframe tbody tr th:only-of-type {\n",
              "        vertical-align: middle;\n",
              "    }\n",
              "\n",
              "    .dataframe tbody tr th {\n",
              "        vertical-align: top;\n",
              "    }\n",
              "\n",
              "    .dataframe thead th {\n",
              "        text-align: right;\n",
              "    }\n",
              "</style>\n",
              "<table border=\"1\" class=\"dataframe\">\n",
              "  <thead>\n",
              "    <tr style=\"text-align: right;\">\n",
              "      <th></th>\n",
              "      <th>ano</th>\n",
              "      <th>mes</th>\n",
              "      <th>partido</th>\n",
              "      <th>UF</th>\n",
              "      <th>nome_parlamentar</th>\n",
              "      <th>desc_gasto</th>\n",
              "      <th>txtfornecedor</th>\n",
              "      <th>valor_gasto</th>\n",
              "    </tr>\n",
              "  </thead>\n",
              "  <tbody>\n",
              "    <tr>\n",
              "      <th>0</th>\n",
              "      <td>2020</td>\n",
              "      <td>2</td>\n",
              "      <td>PSDB</td>\n",
              "      <td>NaN</td>\n",
              "      <td>LIDERANÇA DO PSDB</td>\n",
              "      <td>DIVULGAÇÃO DA ATIVIDADE PARLAMENTAR.</td>\n",
              "      <td>CONTENT ASSESSORIA LTDA - ME</td>\n",
              "      <td>998.0</td>\n",
              "    </tr>\n",
              "    <tr>\n",
              "      <th>1</th>\n",
              "      <td>2020</td>\n",
              "      <td>1</td>\n",
              "      <td>PSDB</td>\n",
              "      <td>NaN</td>\n",
              "      <td>LIDERANÇA DO PSDB</td>\n",
              "      <td>DIVULGAÇÃO DA ATIVIDADE PARLAMENTAR.</td>\n",
              "      <td>METROPOLE INTERATIVA INFORMATICA LTDA</td>\n",
              "      <td>4920.0</td>\n",
              "    </tr>\n",
              "    <tr>\n",
              "      <th>2</th>\n",
              "      <td>2020</td>\n",
              "      <td>2</td>\n",
              "      <td>PSDB</td>\n",
              "      <td>NaN</td>\n",
              "      <td>LIDERANÇA DO PSDB</td>\n",
              "      <td>FORNECIMENTO DE ALIMENTAÇÃO DO PARLAMENTAR</td>\n",
              "      <td>AFC ALIMENTOS LTDA</td>\n",
              "      <td>511.0</td>\n",
              "    </tr>\n",
              "    <tr>\n",
              "      <th>3</th>\n",
              "      <td>2020</td>\n",
              "      <td>2</td>\n",
              "      <td>PSDB</td>\n",
              "      <td>NaN</td>\n",
              "      <td>LIDERANÇA DO PSDB</td>\n",
              "      <td>FORNECIMENTO DE ALIMENTAÇÃO DO PARLAMENTAR</td>\n",
              "      <td>AFC ALIMENTOS LTDA</td>\n",
              "      <td>186.0</td>\n",
              "    </tr>\n",
              "    <tr>\n",
              "      <th>4</th>\n",
              "      <td>2020</td>\n",
              "      <td>2</td>\n",
              "      <td>PSDB</td>\n",
              "      <td>NaN</td>\n",
              "      <td>LIDERANÇA DO PSDB</td>\n",
              "      <td>FORNECIMENTO DE ALIMENTAÇÃO DO PARLAMENTAR</td>\n",
              "      <td>ARTESANAL SERVICOS DE ALIMENTACAO E BUFFET EIRELI</td>\n",
              "      <td>740.0</td>\n",
              "    </tr>\n",
              "  </tbody>\n",
              "</table>\n",
              "</div>"
            ],
            "text/plain": [
              "    ano  mes  ...                                      txtfornecedor valor_gasto\n",
              "0  2020    2  ...                       CONTENT ASSESSORIA LTDA - ME       998.0\n",
              "1  2020    1  ...              METROPOLE INTERATIVA INFORMATICA LTDA      4920.0\n",
              "2  2020    2  ...                                 AFC ALIMENTOS LTDA       511.0\n",
              "3  2020    2  ...                                 AFC ALIMENTOS LTDA       186.0\n",
              "4  2020    2  ...  ARTESANAL SERVICOS DE ALIMENTACAO E BUFFET EIRELI       740.0\n",
              "\n",
              "[5 rows x 8 columns]"
            ]
          },
          "metadata": {
            "tags": []
          },
          "execution_count": 49
        }
      ]
    },
    {
      "cell_type": "code",
      "metadata": {
        "colab": {
          "base_uri": "https://localhost:8080/",
          "height": 202
        },
        "id": "P9bwTBDGLf2i",
        "outputId": "f50fc5df-d1e8-457a-eabd-506b3f05263b"
      },
      "source": [
        "df.tail() #conferindo os valores finais da tabela"
      ],
      "execution_count": 50,
      "outputs": [
        {
          "output_type": "execute_result",
          "data": {
            "text/html": [
              "<div>\n",
              "<style scoped>\n",
              "    .dataframe tbody tr th:only-of-type {\n",
              "        vertical-align: middle;\n",
              "    }\n",
              "\n",
              "    .dataframe tbody tr th {\n",
              "        vertical-align: top;\n",
              "    }\n",
              "\n",
              "    .dataframe thead th {\n",
              "        text-align: right;\n",
              "    }\n",
              "</style>\n",
              "<table border=\"1\" class=\"dataframe\">\n",
              "  <thead>\n",
              "    <tr style=\"text-align: right;\">\n",
              "      <th></th>\n",
              "      <th>ano</th>\n",
              "      <th>mes</th>\n",
              "      <th>partido</th>\n",
              "      <th>UF</th>\n",
              "      <th>nome_parlamentar</th>\n",
              "      <th>desc_gasto</th>\n",
              "      <th>txtfornecedor</th>\n",
              "      <th>valor_gasto</th>\n",
              "    </tr>\n",
              "  </thead>\n",
              "  <tbody>\n",
              "    <tr>\n",
              "      <th>3855644</th>\n",
              "      <td>2015</td>\n",
              "      <td>12</td>\n",
              "      <td>MDB</td>\n",
              "      <td>RJ</td>\n",
              "      <td>WILSON BESERRA</td>\n",
              "      <td>Emissão Bilhete Aéreo</td>\n",
              "      <td>Cia Aérea - AVIANCA</td>\n",
              "      <td>592.45</td>\n",
              "    </tr>\n",
              "    <tr>\n",
              "      <th>3855645</th>\n",
              "      <td>2015</td>\n",
              "      <td>12</td>\n",
              "      <td>MDB</td>\n",
              "      <td>RJ</td>\n",
              "      <td>WILSON BESERRA</td>\n",
              "      <td>Emissão Bilhete Aéreo</td>\n",
              "      <td>Cia Aérea - AVIANCA</td>\n",
              "      <td>1324.83</td>\n",
              "    </tr>\n",
              "    <tr>\n",
              "      <th>3855646</th>\n",
              "      <td>2015</td>\n",
              "      <td>12</td>\n",
              "      <td>MDB</td>\n",
              "      <td>RJ</td>\n",
              "      <td>WILSON BESERRA</td>\n",
              "      <td>Emissão Bilhete Aéreo</td>\n",
              "      <td>Cia Aérea - AVIANCA</td>\n",
              "      <td>-1194.93</td>\n",
              "    </tr>\n",
              "    <tr>\n",
              "      <th>3855647</th>\n",
              "      <td>2015</td>\n",
              "      <td>12</td>\n",
              "      <td>MDB</td>\n",
              "      <td>RJ</td>\n",
              "      <td>WILSON BESERRA</td>\n",
              "      <td>Emissão Bilhete Aéreo</td>\n",
              "      <td>Cia Aérea - AVIANCA</td>\n",
              "      <td>-469.05</td>\n",
              "    </tr>\n",
              "    <tr>\n",
              "      <th>3855648</th>\n",
              "      <td>2015</td>\n",
              "      <td>12</td>\n",
              "      <td>PSD</td>\n",
              "      <td>RJ</td>\n",
              "      <td>NELSON NAHIM</td>\n",
              "      <td>TELEFONIA</td>\n",
              "      <td>RAMAL</td>\n",
              "      <td>9.85</td>\n",
              "    </tr>\n",
              "  </tbody>\n",
              "</table>\n",
              "</div>"
            ],
            "text/plain": [
              "          ano  mes  ...        txtfornecedor valor_gasto\n",
              "3855644  2015   12  ...  Cia Aérea - AVIANCA      592.45\n",
              "3855645  2015   12  ...  Cia Aérea - AVIANCA     1324.83\n",
              "3855646  2015   12  ...  Cia Aérea - AVIANCA    -1194.93\n",
              "3855647  2015   12  ...  Cia Aérea - AVIANCA     -469.05\n",
              "3855648  2015   12  ...                RAMAL        9.85\n",
              "\n",
              "[5 rows x 8 columns]"
            ]
          },
          "metadata": {
            "tags": []
          },
          "execution_count": 50
        }
      ]
    },
    {
      "cell_type": "code",
      "metadata": {
        "colab": {
          "base_uri": "https://localhost:8080/"
        },
        "id": "Q_tgwtFf85Zz",
        "outputId": "f86bf241-632f-4c0f-978c-fa5273180344"
      },
      "source": [
        "df[\"desc_gasto\"].unique() #verificando os diferentes tipos de gastos realizados pelos Deputados."
      ],
      "execution_count": 51,
      "outputs": [
        {
          "output_type": "execute_result",
          "data": {
            "text/plain": [
              "array(['DIVULGAÇÃO DA ATIVIDADE PARLAMENTAR.',\n",
              "       'FORNECIMENTO DE ALIMENTAÇÃO DO PARLAMENTAR',\n",
              "       'MANUTENÇÃO DE ESCRITÓRIO DE APOIO À ATIVIDADE PARLAMENTAR',\n",
              "       'COMBUSTÍVEIS E LUBRIFICANTES.', 'PASSAGENS AÉREAS', 'TELEFONIA',\n",
              "       'LOCAÇÃO OU FRETAMENTO DE VEÍCULOS AUTOMOTORES',\n",
              "       'SERVIÇOS POSTAIS',\n",
              "       'CONSULTORIAS, PESQUISAS E TRABALHOS TÉCNICOS.',\n",
              "       'SERVIÇO DE SEGURANÇA PRESTADO POR EMPRESA ESPECIALIZADA.',\n",
              "       'Emissão Bilhete Aéreo',\n",
              "       'HOSPEDAGEM ,EXCETO DO PARLAMENTAR NO DISTRITO FEDERAL.',\n",
              "       'SERVIÇO DE TÁXI, PEDÁGIO E ESTACIONAMENTO',\n",
              "       'PARTICIPAÇÃO EM CURSO, PALESTRA OU EVENTO SIMILAR',\n",
              "       'LOCAÇÃO OU FRETAMENTO DE AERONAVES',\n",
              "       'PASSAGENS TERRESTRES, MARÍTIMAS OU FLUVIAIS',\n",
              "       'ASSINATURA DE PUBLICAÇÕES',\n",
              "       'LOCAÇÃO DE VEÍCULOS AUTOMOTORES OU FRETAMENTO DE EMBARCAÇÕES',\n",
              "       'LOCAÇÃO OU FRETAMENTO DE EMBARCAÇÕES',\n",
              "       'LOCOMOÇÃO, ALIMENTAÇÃO E  HOSPEDAGEM',\n",
              "       'AQUISIÇÃO DE MATERIAL DE ESCRITÓRIO.',\n",
              "       'AQUISIÇÃO OU LOC. DE SOFTWARE; SERV. POSTAIS; ASS.'], dtype=object)"
            ]
          },
          "metadata": {
            "tags": []
          },
          "execution_count": 51
        }
      ]
    },
    {
      "cell_type": "code",
      "metadata": {
        "colab": {
          "base_uri": "https://localhost:8080/"
        },
        "id": "q2gPua3dLcVi",
        "outputId": "21b6ff2a-5a88-4b70-f83e-9bded9dcd25d"
      },
      "source": [
        "df.isnull().sum() #verificando se há valores nulos."
      ],
      "execution_count": 52,
      "outputs": [
        {
          "output_type": "execute_result",
          "data": {
            "text/plain": [
              "ano                    0\n",
              "mes                    0\n",
              "partido                0\n",
              "UF                  5505\n",
              "nome_parlamentar       0\n",
              "desc_gasto             0\n",
              "txtfornecedor          9\n",
              "valor_gasto            0\n",
              "dtype: int64"
            ]
          },
          "metadata": {
            "tags": []
          },
          "execution_count": 52
        }
      ]
    },
    {
      "cell_type": "code",
      "metadata": {
        "id": "Wl9Z_Q8JNNcx"
      },
      "source": [
        "df.UF.fillna('Sem informação', inplace=True) #substituindo valores nulos por \"Sem informação\""
      ],
      "execution_count": 53,
      "outputs": []
    },
    {
      "cell_type": "code",
      "metadata": {
        "colab": {
          "base_uri": "https://localhost:8080/"
        },
        "id": "HyHpA0veNm0f",
        "outputId": "b6787696-f851-4bfe-8c3f-33587afe2c01"
      },
      "source": [
        "df.isnull().sum() #conferindo se funcionou"
      ],
      "execution_count": 54,
      "outputs": [
        {
          "output_type": "execute_result",
          "data": {
            "text/plain": [
              "ano                 0\n",
              "mes                 0\n",
              "partido             0\n",
              "UF                  0\n",
              "nome_parlamentar    0\n",
              "desc_gasto          0\n",
              "txtfornecedor       9\n",
              "valor_gasto         0\n",
              "dtype: int64"
            ]
          },
          "metadata": {
            "tags": []
          },
          "execution_count": 54
        }
      ]
    },
    {
      "cell_type": "code",
      "metadata": {
        "id": "FvzQUxEJN-Cw"
      },
      "source": [
        "data = df.mes.astype(str) + \"-\" + df.ano.astype(str) \n",
        "data = pd.DatetimeIndex(data) # para criar séries ao longo do tempo, devemos criar uma nova coluna no formato datetime a partir de mês/ano."
      ],
      "execution_count": 55,
      "outputs": []
    },
    {
      "cell_type": "code",
      "metadata": {
        "colab": {
          "base_uri": "https://localhost:8080/",
          "height": 336
        },
        "id": "E0rH2PvOPWH4",
        "outputId": "ec3c590f-3a58-44ad-d9d8-136af3913cfa"
      },
      "source": [
        "df['data'] = data\n",
        "df.head() #conferindo"
      ],
      "execution_count": 56,
      "outputs": [
        {
          "output_type": "execute_result",
          "data": {
            "text/html": [
              "<div>\n",
              "<style scoped>\n",
              "    .dataframe tbody tr th:only-of-type {\n",
              "        vertical-align: middle;\n",
              "    }\n",
              "\n",
              "    .dataframe tbody tr th {\n",
              "        vertical-align: top;\n",
              "    }\n",
              "\n",
              "    .dataframe thead th {\n",
              "        text-align: right;\n",
              "    }\n",
              "</style>\n",
              "<table border=\"1\" class=\"dataframe\">\n",
              "  <thead>\n",
              "    <tr style=\"text-align: right;\">\n",
              "      <th></th>\n",
              "      <th>ano</th>\n",
              "      <th>mes</th>\n",
              "      <th>partido</th>\n",
              "      <th>UF</th>\n",
              "      <th>nome_parlamentar</th>\n",
              "      <th>desc_gasto</th>\n",
              "      <th>txtfornecedor</th>\n",
              "      <th>valor_gasto</th>\n",
              "      <th>data</th>\n",
              "    </tr>\n",
              "  </thead>\n",
              "  <tbody>\n",
              "    <tr>\n",
              "      <th>0</th>\n",
              "      <td>2020</td>\n",
              "      <td>2</td>\n",
              "      <td>PSDB</td>\n",
              "      <td>Sem informação</td>\n",
              "      <td>LIDERANÇA DO PSDB</td>\n",
              "      <td>DIVULGAÇÃO DA ATIVIDADE PARLAMENTAR.</td>\n",
              "      <td>CONTENT ASSESSORIA LTDA - ME</td>\n",
              "      <td>998.0</td>\n",
              "      <td>2020-02-01</td>\n",
              "    </tr>\n",
              "    <tr>\n",
              "      <th>1</th>\n",
              "      <td>2020</td>\n",
              "      <td>1</td>\n",
              "      <td>PSDB</td>\n",
              "      <td>Sem informação</td>\n",
              "      <td>LIDERANÇA DO PSDB</td>\n",
              "      <td>DIVULGAÇÃO DA ATIVIDADE PARLAMENTAR.</td>\n",
              "      <td>METROPOLE INTERATIVA INFORMATICA LTDA</td>\n",
              "      <td>4920.0</td>\n",
              "      <td>2020-01-01</td>\n",
              "    </tr>\n",
              "    <tr>\n",
              "      <th>2</th>\n",
              "      <td>2020</td>\n",
              "      <td>2</td>\n",
              "      <td>PSDB</td>\n",
              "      <td>Sem informação</td>\n",
              "      <td>LIDERANÇA DO PSDB</td>\n",
              "      <td>FORNECIMENTO DE ALIMENTAÇÃO DO PARLAMENTAR</td>\n",
              "      <td>AFC ALIMENTOS LTDA</td>\n",
              "      <td>511.0</td>\n",
              "      <td>2020-02-01</td>\n",
              "    </tr>\n",
              "    <tr>\n",
              "      <th>3</th>\n",
              "      <td>2020</td>\n",
              "      <td>2</td>\n",
              "      <td>PSDB</td>\n",
              "      <td>Sem informação</td>\n",
              "      <td>LIDERANÇA DO PSDB</td>\n",
              "      <td>FORNECIMENTO DE ALIMENTAÇÃO DO PARLAMENTAR</td>\n",
              "      <td>AFC ALIMENTOS LTDA</td>\n",
              "      <td>186.0</td>\n",
              "      <td>2020-02-01</td>\n",
              "    </tr>\n",
              "    <tr>\n",
              "      <th>4</th>\n",
              "      <td>2020</td>\n",
              "      <td>2</td>\n",
              "      <td>PSDB</td>\n",
              "      <td>Sem informação</td>\n",
              "      <td>LIDERANÇA DO PSDB</td>\n",
              "      <td>FORNECIMENTO DE ALIMENTAÇÃO DO PARLAMENTAR</td>\n",
              "      <td>ARTESANAL SERVICOS DE ALIMENTACAO E BUFFET EIRELI</td>\n",
              "      <td>740.0</td>\n",
              "      <td>2020-02-01</td>\n",
              "    </tr>\n",
              "  </tbody>\n",
              "</table>\n",
              "</div>"
            ],
            "text/plain": [
              "    ano  mes  ... valor_gasto       data\n",
              "0  2020    2  ...       998.0 2020-02-01\n",
              "1  2020    1  ...      4920.0 2020-01-01\n",
              "2  2020    2  ...       511.0 2020-02-01\n",
              "3  2020    2  ...       186.0 2020-02-01\n",
              "4  2020    2  ...       740.0 2020-02-01\n",
              "\n",
              "[5 rows x 9 columns]"
            ]
          },
          "metadata": {
            "tags": []
          },
          "execution_count": 56
        }
      ]
    },
    {
      "cell_type": "markdown",
      "metadata": {
        "id": "08ylaufMP1AO"
      },
      "source": [
        "### Análise Exploratória\n",
        "\n",
        "Aqui, faremos a exploração dos dados para responder as seguintes perguntas:\n",
        "\n",
        "1. Total gasto por categoria;\n",
        "\n",
        "2. Valores gastos por ano.\n",
        "\n",
        "3. Qual parlamentar mais gastou neste período?\n",
        "\n",
        "4. Qual parlamentar menos gastou neste período?\n",
        "\n",
        "5. Deputados que mais gastaram em média.\n",
        "\n",
        "6. Gastos totais por estado.\n",
        "\n",
        "7. Quem pediu o maior reembolso de uma só vez?\n",
        "\n"
      ]
    },
    {
      "cell_type": "markdown",
      "metadata": {
        "id": "UPaDd6khZTLa"
      },
      "source": [
        ""
      ]
    },
    {
      "cell_type": "code",
      "metadata": {
        "id": "4Nk_k7YG9d7N"
      },
      "source": [
        "gastos = df.groupby('desc_gasto')['valor_gasto'].sum().sort_values(ascending=False).head(10) #gastos por atividade"
      ],
      "execution_count": 57,
      "outputs": []
    },
    {
      "cell_type": "code",
      "metadata": {
        "colab": {
          "base_uri": "https://localhost:8080/",
          "height": 278
        },
        "id": "jLJHkV2-LFgN",
        "outputId": "bae52c00-ea72-4b5c-e7f9-ce5d4ef7d133"
      },
      "source": [
        "\n",
        "gastos.plot.barh();"
      ],
      "execution_count": 58,
      "outputs": [
        {
          "output_type": "display_data",
          "data": {
            "image/png": "[encoded data removed]",
            "text/plain": [
              "<Figure size 432x288 with 1 Axes>"
            ]
          },
          "metadata": {
            "tags": [],
            "needs_background": "light"
          }
        }
      ]
    },
    {
      "cell_type": "code",
      "metadata": {
        "colab": {
          "base_uri": "https://localhost:8080/",
          "height": 290
        },
        "id": "NrlG7ONXV5E4",
        "outputId": "914ac271-fe5e-4e57-fe16-a61d5262449a"
      },
      "source": [
        "gastos_ano = df.groupby('ano')['valor_gasto'].sum()\n",
        "gastos_ano.plot(kind='line');"
      ],
      "execution_count": 59,
      "outputs": [
        {
          "output_type": "display_data",
          "data": {
            "image/png": "[encoded data removed]",
            "text/plain": [
              "<Figure size 432x288 with 1 Axes>"
            ]
          },
          "metadata": {
            "tags": [],
            "needs_background": "light"
          }
        }
      ]
    },
    {
      "cell_type": "code",
      "metadata": {
        "colab": {
          "base_uri": "https://localhost:8080/",
          "height": 390
        },
        "id": "P5Z7LCg8AwK7",
        "outputId": "4eac45aa-d1b3-4957-9276-b3c0b14b4102"
      },
      "source": [
        "gastos_nome = df.groupby(['nome_parlamentar'])['valor_gasto'].sum().sort_values(ascending=False).head(10)\n",
        "gastos_nome.plot(kind='bar');"
      ],
      "execution_count": 60,
      "outputs": [
        {
          "output_type": "display_data",
          "data": {
            "image/png": "[encoded data removed]",
            "text/plain": [
              "<Figure size 432x288 with 1 Axes>"
            ]
          },
          "metadata": {
            "tags": [],
            "needs_background": "light"
          }
        }
      ]
    },
    {
      "cell_type": "code",
      "metadata": {
        "colab": {
          "base_uri": "https://localhost:8080/",
          "height": 395
        },
        "id": "4FpCxp8WYooO",
        "outputId": "9470b565-cb69-47ed-90ee-8f1c90eaede8"
      },
      "source": [
        "gastos_menores_nome = df.groupby(['nome_parlamentar'])['valor_gasto'].sum().sort_values().head(10)\n",
        "gastos_menores_nome.plot(kind='bar') #Valores negativos são bilhetes de compensação."
      ],
      "execution_count": 61,
      "outputs": [
        {
          "output_type": "execute_result",
          "data": {
            "text/plain": [
              "<matplotlib.axes._subplots.AxesSubplot at 0x7fe9d3a66310>"
            ]
          },
          "metadata": {
            "tags": []
          },
          "execution_count": 61
        },
        {
          "output_type": "display_data",
          "data": {
            "image/png": "[encoded data removed]",
            "text/plain": [
              "<Figure size 432x288 with 1 Axes>"
            ]
          },
          "metadata": {
            "tags": [],
            "needs_background": "light"
          }
        }
      ]
    },
    {
      "cell_type": "code",
      "metadata": {
        "colab": {
          "base_uri": "https://localhost:8080/",
          "height": 442
        },
        "id": "QKrvxeJxaits",
        "outputId": "de92c253-6328-4386-b20f-23f4cc5b6a7e"
      },
      "source": [
        "gasto_medio = df.groupby(['nome_parlamentar', 'ano'])['valor_gasto'].mean().sort_values(ascending=False).head(5)\n",
        "gasto_medio.plot(kind='bar');"
      ],
      "execution_count": 62,
      "outputs": [
        {
          "output_type": "display_data",
          "data": {
            "image/png": "[encoded data removed]",
            "text/plain": [
              "<Figure size 432x288 with 1 Axes>"
            ]
          },
          "metadata": {
            "tags": [],
            "needs_background": "light"
          }
        }
      ]
    },
    {
      "cell_type": "markdown",
      "metadata": {
        "id": "QODLt-VudFyD"
      },
      "source": [
        ""
      ]
    },
    {
      "cell_type": "code",
      "metadata": {
        "colab": {
          "base_uri": "https://localhost:8080/",
          "height": 278
        },
        "id": "PE6O-mYeLY7A",
        "outputId": "1a6826a6-e3f7-41e9-f240-900380b7d8f2"
      },
      "source": [
        "gasto_estado = df.groupby('UF')['valor_gasto'].sum().sort_values()\n",
        "gasto_estado.plot(kind='barh');"
      ],
      "execution_count": 63,
      "outputs": [
        {
          "output_type": "display_data",
          "data": {
            "image/png": "[encoded data removed]",
            "text/plain": [
              "<Figure size 432x288 with 1 Axes>"
            ]
          },
          "metadata": {
            "tags": [],
            "needs_background": "light"
          }
        }
      ]
    },
    {
      "cell_type": "code",
      "metadata": {
        "colab": {
          "base_uri": "https://localhost:8080/",
          "height": 582
        },
        "id": "QZ-Sf-8Am_EF",
        "outputId": "4f864f10-ee52-402b-b2c2-3fa58cf27b78"
      },
      "source": [
        "df.sort_values(by='valor_gasto',ascending=False) #maiores reembolsos de uma só vez."
      ],
      "execution_count": 64,
      "outputs": [
        {
          "output_type": "execute_result",
          "data": {
            "text/html": [
              "<div>\n",
              "<style scoped>\n",
              "    .dataframe tbody tr th:only-of-type {\n",
              "        vertical-align: middle;\n",
              "    }\n",
              "\n",
              "    .dataframe tbody tr th {\n",
              "        vertical-align: top;\n",
              "    }\n",
              "\n",
              "    .dataframe thead th {\n",
              "        text-align: right;\n",
              "    }\n",
              "</style>\n",
              "<table border=\"1\" class=\"dataframe\">\n",
              "  <thead>\n",
              "    <tr style=\"text-align: right;\">\n",
              "      <th></th>\n",
              "      <th>ano</th>\n",
              "      <th>mes</th>\n",
              "      <th>partido</th>\n",
              "      <th>UF</th>\n",
              "      <th>nome_parlamentar</th>\n",
              "      <th>desc_gasto</th>\n",
              "      <th>txtfornecedor</th>\n",
              "      <th>valor_gasto</th>\n",
              "      <th>data</th>\n",
              "    </tr>\n",
              "  </thead>\n",
              "  <tbody>\n",
              "    <tr>\n",
              "      <th>60833</th>\n",
              "      <td>2012</td>\n",
              "      <td>12</td>\n",
              "      <td>PTB</td>\n",
              "      <td>SP</td>\n",
              "      <td>ARNALDO FARIA DE SÁ</td>\n",
              "      <td>DIVULGAÇÃO DA ATIVIDADE PARLAMENTAR.</td>\n",
              "      <td>BALCOLOR DIGITAL ATELIER GRAFICO LTDA</td>\n",
              "      <td>215000.00</td>\n",
              "      <td>2012-12-01</td>\n",
              "    </tr>\n",
              "    <tr>\n",
              "      <th>87402</th>\n",
              "      <td>2014</td>\n",
              "      <td>12</td>\n",
              "      <td>PTB</td>\n",
              "      <td>SP</td>\n",
              "      <td>ARNALDO FARIA DE SÁ</td>\n",
              "      <td>DIVULGAÇÃO DA ATIVIDADE PARLAMENTAR.</td>\n",
              "      <td>GRÁFICA TRÊS PONTAS</td>\n",
              "      <td>208320.00</td>\n",
              "      <td>2014-12-01</td>\n",
              "    </tr>\n",
              "    <tr>\n",
              "      <th>70032</th>\n",
              "      <td>2013</td>\n",
              "      <td>12</td>\n",
              "      <td>PTB</td>\n",
              "      <td>SP</td>\n",
              "      <td>ARNALDO FARIA DE SÁ</td>\n",
              "      <td>DIVULGAÇÃO DA ATIVIDADE PARLAMENTAR.</td>\n",
              "      <td>BALCOLOR DIGITAL ATELIER GRAFICO LTDA</td>\n",
              "      <td>197370.00</td>\n",
              "      <td>2013-12-01</td>\n",
              "    </tr>\n",
              "    <tr>\n",
              "      <th>113778</th>\n",
              "      <td>2011</td>\n",
              "      <td>12</td>\n",
              "      <td>PTB</td>\n",
              "      <td>SP</td>\n",
              "      <td>ARNALDO FARIA DE SÁ</td>\n",
              "      <td>DIVULGAÇÃO DA ATIVIDADE PARLAMENTAR.</td>\n",
              "      <td>BALCOLOR</td>\n",
              "      <td>197000.00</td>\n",
              "      <td>2011-12-01</td>\n",
              "    </tr>\n",
              "    <tr>\n",
              "      <th>110908</th>\n",
              "      <td>2011</td>\n",
              "      <td>12</td>\n",
              "      <td>PT</td>\n",
              "      <td>SP</td>\n",
              "      <td>Arlindo Chinaglia</td>\n",
              "      <td>DIVULGAÇÃO DA ATIVIDADE PARLAMENTAR.</td>\n",
              "      <td>ALL WIN PROPAGANDA LTDA</td>\n",
              "      <td>194100.00</td>\n",
              "      <td>2011-12-01</td>\n",
              "    </tr>\n",
              "    <tr>\n",
              "      <th>...</th>\n",
              "      <td>...</td>\n",
              "      <td>...</td>\n",
              "      <td>...</td>\n",
              "      <td>...</td>\n",
              "      <td>...</td>\n",
              "      <td>...</td>\n",
              "      <td>...</td>\n",
              "      <td>...</td>\n",
              "      <td>...</td>\n",
              "    </tr>\n",
              "    <tr>\n",
              "      <th>3050292</th>\n",
              "      <td>2012</td>\n",
              "      <td>12</td>\n",
              "      <td>PMDB</td>\n",
              "      <td>RJ</td>\n",
              "      <td>ADRIAN</td>\n",
              "      <td>Emissão Bilhete Aéreo</td>\n",
              "      <td>Cia Aérea - TAM</td>\n",
              "      <td>-7809.77</td>\n",
              "      <td>2012-12-01</td>\n",
              "    </tr>\n",
              "    <tr>\n",
              "      <th>2646150</th>\n",
              "      <td>2015</td>\n",
              "      <td>9</td>\n",
              "      <td>PT</td>\n",
              "      <td>AC</td>\n",
              "      <td>SIBÁ MACHADO</td>\n",
              "      <td>Emissão Bilhete Aéreo</td>\n",
              "      <td>Cia Aérea - TAM</td>\n",
              "      <td>-9240.77</td>\n",
              "      <td>2015-09-01</td>\n",
              "    </tr>\n",
              "    <tr>\n",
              "      <th>1499994</th>\n",
              "      <td>2011</td>\n",
              "      <td>10</td>\n",
              "      <td>PMDB</td>\n",
              "      <td>MG</td>\n",
              "      <td>NEWTON CARDOSO</td>\n",
              "      <td>Emissão Bilhete Aéreo</td>\n",
              "      <td>Cia Aérea - TAM</td>\n",
              "      <td>-10466.70</td>\n",
              "      <td>2011-10-01</td>\n",
              "    </tr>\n",
              "    <tr>\n",
              "      <th>3050291</th>\n",
              "      <td>2012</td>\n",
              "      <td>12</td>\n",
              "      <td>PMDB</td>\n",
              "      <td>RJ</td>\n",
              "      <td>ADRIAN</td>\n",
              "      <td>Emissão Bilhete Aéreo</td>\n",
              "      <td>Cia Aérea - TAM</td>\n",
              "      <td>-12561.10</td>\n",
              "      <td>2012-12-01</td>\n",
              "    </tr>\n",
              "    <tr>\n",
              "      <th>2304827</th>\n",
              "      <td>2010</td>\n",
              "      <td>11</td>\n",
              "      <td>PMDB</td>\n",
              "      <td>RS</td>\n",
              "      <td>IBSEN PINHEIRO</td>\n",
              "      <td>Emissão Bilhete Aéreo</td>\n",
              "      <td>Cia Aérea - TAM</td>\n",
              "      <td>-20974.70</td>\n",
              "      <td>2010-11-01</td>\n",
              "    </tr>\n",
              "  </tbody>\n",
              "</table>\n",
              "<p>3855649 rows × 9 columns</p>\n",
              "</div>"
            ],
            "text/plain": [
              "          ano  mes  ... valor_gasto       data\n",
              "60833    2012   12  ...   215000.00 2012-12-01\n",
              "87402    2014   12  ...   208320.00 2014-12-01\n",
              "70032    2013   12  ...   197370.00 2013-12-01\n",
              "113778   2011   12  ...   197000.00 2011-12-01\n",
              "110908   2011   12  ...   194100.00 2011-12-01\n",
              "...       ...  ...  ...         ...        ...\n",
              "3050292  2012   12  ...    -7809.77 2012-12-01\n",
              "2646150  2015    9  ...    -9240.77 2015-09-01\n",
              "1499994  2011   10  ...   -10466.70 2011-10-01\n",
              "3050291  2012   12  ...   -12561.10 2012-12-01\n",
              "2304827  2010   11  ...   -20974.70 2010-11-01\n",
              "\n",
              "[3855649 rows x 9 columns]"
            ]
          },
          "metadata": {
            "tags": []
          },
          "execution_count": 64
        }
      ]
    },
    {
      "cell_type": "code",
      "metadata": {
        "colab": {
          "base_uri": "https://localhost:8080/",
          "height": 238
        },
        "id": "Jevq9-LqpgTW",
        "outputId": "e64a9a6e-bed2-451f-fc52-041dc060f7a5"
      },
      "source": [
        "df.sort_values(by='valor_gasto', ascending=False).head(4)\n"
      ],
      "execution_count": 67,
      "outputs": [
        {
          "output_type": "execute_result",
          "data": {
            "text/html": [
              "<div>\n",
              "<style scoped>\n",
              "    .dataframe tbody tr th:only-of-type {\n",
              "        vertical-align: middle;\n",
              "    }\n",
              "\n",
              "    .dataframe tbody tr th {\n",
              "        vertical-align: top;\n",
              "    }\n",
              "\n",
              "    .dataframe thead th {\n",
              "        text-align: right;\n",
              "    }\n",
              "</style>\n",
              "<table border=\"1\" class=\"dataframe\">\n",
              "  <thead>\n",
              "    <tr style=\"text-align: right;\">\n",
              "      <th></th>\n",
              "      <th>ano</th>\n",
              "      <th>mes</th>\n",
              "      <th>partido</th>\n",
              "      <th>UF</th>\n",
              "      <th>nome_parlamentar</th>\n",
              "      <th>desc_gasto</th>\n",
              "      <th>txtfornecedor</th>\n",
              "      <th>valor_gasto</th>\n",
              "      <th>data</th>\n",
              "    </tr>\n",
              "  </thead>\n",
              "  <tbody>\n",
              "    <tr>\n",
              "      <th>60833</th>\n",
              "      <td>2012</td>\n",
              "      <td>12</td>\n",
              "      <td>PTB</td>\n",
              "      <td>SP</td>\n",
              "      <td>ARNALDO FARIA DE SÁ</td>\n",
              "      <td>DIVULGAÇÃO DA ATIVIDADE PARLAMENTAR.</td>\n",
              "      <td>BALCOLOR DIGITAL ATELIER GRAFICO LTDA</td>\n",
              "      <td>215000.0</td>\n",
              "      <td>2012-12-01</td>\n",
              "    </tr>\n",
              "    <tr>\n",
              "      <th>87402</th>\n",
              "      <td>2014</td>\n",
              "      <td>12</td>\n",
              "      <td>PTB</td>\n",
              "      <td>SP</td>\n",
              "      <td>ARNALDO FARIA DE SÁ</td>\n",
              "      <td>DIVULGAÇÃO DA ATIVIDADE PARLAMENTAR.</td>\n",
              "      <td>GRÁFICA TRÊS PONTAS</td>\n",
              "      <td>208320.0</td>\n",
              "      <td>2014-12-01</td>\n",
              "    </tr>\n",
              "    <tr>\n",
              "      <th>70032</th>\n",
              "      <td>2013</td>\n",
              "      <td>12</td>\n",
              "      <td>PTB</td>\n",
              "      <td>SP</td>\n",
              "      <td>ARNALDO FARIA DE SÁ</td>\n",
              "      <td>DIVULGAÇÃO DA ATIVIDADE PARLAMENTAR.</td>\n",
              "      <td>BALCOLOR DIGITAL ATELIER GRAFICO LTDA</td>\n",
              "      <td>197370.0</td>\n",
              "      <td>2013-12-01</td>\n",
              "    </tr>\n",
              "    <tr>\n",
              "      <th>113778</th>\n",
              "      <td>2011</td>\n",
              "      <td>12</td>\n",
              "      <td>PTB</td>\n",
              "      <td>SP</td>\n",
              "      <td>ARNALDO FARIA DE SÁ</td>\n",
              "      <td>DIVULGAÇÃO DA ATIVIDADE PARLAMENTAR.</td>\n",
              "      <td>BALCOLOR</td>\n",
              "      <td>197000.0</td>\n",
              "      <td>2011-12-01</td>\n",
              "    </tr>\n",
              "  </tbody>\n",
              "</table>\n",
              "</div>"
            ],
            "text/plain": [
              "         ano  mes  ... valor_gasto       data\n",
              "60833   2012   12  ...    215000.0 2012-12-01\n",
              "87402   2014   12  ...    208320.0 2014-12-01\n",
              "70032   2013   12  ...    197370.0 2013-12-01\n",
              "113778  2011   12  ...    197000.0 2011-12-01\n",
              "\n",
              "[4 rows x 9 columns]"
            ]
          },
          "metadata": {
            "tags": []
          },
          "execution_count": 67
        }
      ]
    },
    {
      "cell_type": "code",
      "metadata": {
        "id": "e-whHWe4hVZG"
      },
      "source": [
        "df.to_csv('newcota.csv')\n",
        "!cp newcota.csv \"/content/drive/MyDrive/dados_colab\""
      ],
      "execution_count": 68,
      "outputs": []
    }
  ]
}